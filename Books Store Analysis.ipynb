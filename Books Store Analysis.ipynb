{
 "cells": [
  {
   "cell_type": "markdown",
   "metadata": {},
   "source": [
    "# Books Database Analysis on SQL "
   ]
  },
  {
   "cell_type": "markdown",
   "metadata": {},
   "source": [
    "## Introduction"
   ]
  },
  {
   "cell_type": "markdown",
   "metadata": {},
   "source": [
    "A startup that develops app for books lovers give us a database of one of the services competing in this market. It contains data on books, publishers, authors, and customer ratings and reviews of books. This information will be used to generate a value proposition for a new product. \n",
    "\n",
    "We will conduct the analysis with SQL queries and provide conclusions and recommendations at the end of the report."
   ]
  },
  {
   "cell_type": "code",
   "execution_count": 6,
   "metadata": {
    "scrolled": false
   },
   "outputs": [],
   "source": [
    "# import libraries\n",
    "import pandas as pd\n",
    "from sqlalchemy import create_engine\n",
    "\n",
    "db_config = {'user': 'practicum_student',         # username\n",
    "             'pwd': 's65BlTKV3faNIGhmvJVzOqhs', # password\n",
    "             'host': 'rc1b-wcoijxj3yxfsf3fs.mdb.yandexcloud.net',\n",
    "             'port': 6432,              # connection port\n",
    "             'db': 'data-analyst-final-project-db'}          # the name of the database\n",
    "\n",
    "connection_string = 'postgresql://{}:{}@{}:{}/{}'.format(db_config['user'],\n",
    "                                                                     db_config['pwd'],\n",
    "                                                                       db_config['host'],\n",
    "                                                                       db_config['port'],\n",
    "                                                                       db_config['db'])\n",
    "\n",
    "engine = create_engine(connection_string, connect_args={'sslmode':'require'})"
   ]
  },
  {
   "cell_type": "markdown",
   "metadata": {},
   "source": [
    "We will print each dataset's first five rows to get a glance of each data."
   ]
  },
  {
   "cell_type": "code",
   "execution_count": 7,
   "metadata": {},
   "outputs": [
    {
     "data": {
      "text/html": [
       "<div>\n",
       "<style scoped>\n",
       "    .dataframe tbody tr th:only-of-type {\n",
       "        vertical-align: middle;\n",
       "    }\n",
       "\n",
       "    .dataframe tbody tr th {\n",
       "        vertical-align: top;\n",
       "    }\n",
       "\n",
       "    .dataframe thead th {\n",
       "        text-align: right;\n",
       "    }\n",
       "</style>\n",
       "<table border=\"1\" class=\"dataframe\">\n",
       "  <thead>\n",
       "    <tr style=\"text-align: right;\">\n",
       "      <th></th>\n",
       "      <th>book_id</th>\n",
       "      <th>author_id</th>\n",
       "      <th>title</th>\n",
       "      <th>num_pages</th>\n",
       "      <th>publication_date</th>\n",
       "      <th>publisher_id</th>\n",
       "    </tr>\n",
       "  </thead>\n",
       "  <tbody>\n",
       "    <tr>\n",
       "      <th>0</th>\n",
       "      <td>1</td>\n",
       "      <td>546</td>\n",
       "      <td>'Salem's Lot</td>\n",
       "      <td>594</td>\n",
       "      <td>2005-11-01</td>\n",
       "      <td>93</td>\n",
       "    </tr>\n",
       "    <tr>\n",
       "      <th>1</th>\n",
       "      <td>2</td>\n",
       "      <td>465</td>\n",
       "      <td>1 000 Places to See Before You Die</td>\n",
       "      <td>992</td>\n",
       "      <td>2003-05-22</td>\n",
       "      <td>336</td>\n",
       "    </tr>\n",
       "    <tr>\n",
       "      <th>2</th>\n",
       "      <td>3</td>\n",
       "      <td>407</td>\n",
       "      <td>13 Little Blue Envelopes (Little Blue Envelope...</td>\n",
       "      <td>322</td>\n",
       "      <td>2010-12-21</td>\n",
       "      <td>135</td>\n",
       "    </tr>\n",
       "    <tr>\n",
       "      <th>3</th>\n",
       "      <td>4</td>\n",
       "      <td>82</td>\n",
       "      <td>1491: New Revelations of the Americas Before C...</td>\n",
       "      <td>541</td>\n",
       "      <td>2006-10-10</td>\n",
       "      <td>309</td>\n",
       "    </tr>\n",
       "    <tr>\n",
       "      <th>4</th>\n",
       "      <td>5</td>\n",
       "      <td>125</td>\n",
       "      <td>1776</td>\n",
       "      <td>386</td>\n",
       "      <td>2006-07-04</td>\n",
       "      <td>268</td>\n",
       "    </tr>\n",
       "  </tbody>\n",
       "</table>\n",
       "</div>"
      ],
      "text/plain": [
       "   book_id  author_id                                              title  \\\n",
       "0        1        546                                       'Salem's Lot   \n",
       "1        2        465                 1 000 Places to See Before You Die   \n",
       "2        3        407  13 Little Blue Envelopes (Little Blue Envelope...   \n",
       "3        4         82  1491: New Revelations of the Americas Before C...   \n",
       "4        5        125                                               1776   \n",
       "\n",
       "   num_pages publication_date  publisher_id  \n",
       "0        594       2005-11-01            93  \n",
       "1        992       2003-05-22           336  \n",
       "2        322       2010-12-21           135  \n",
       "3        541       2006-10-10           309  \n",
       "4        386       2006-07-04           268  "
      ]
     },
     "execution_count": 7,
     "metadata": {},
     "output_type": "execute_result"
    }
   ],
   "source": [
    "query = ''' SELECT *\n",
    "            FROM books\n",
    "            LIMIT 5\n",
    "        '''\n",
    "\n",
    "pd.io.sql.read_sql(query, con = engine)"
   ]
  },
  {
   "cell_type": "code",
   "execution_count": 3,
   "metadata": {},
   "outputs": [
    {
     "data": {
      "text/html": [
       "<div>\n",
       "<style scoped>\n",
       "    .dataframe tbody tr th:only-of-type {\n",
       "        vertical-align: middle;\n",
       "    }\n",
       "\n",
       "    .dataframe tbody tr th {\n",
       "        vertical-align: top;\n",
       "    }\n",
       "\n",
       "    .dataframe thead th {\n",
       "        text-align: right;\n",
       "    }\n",
       "</style>\n",
       "<table border=\"1\" class=\"dataframe\">\n",
       "  <thead>\n",
       "    <tr style=\"text-align: right;\">\n",
       "      <th></th>\n",
       "      <th>rating_id</th>\n",
       "      <th>book_id</th>\n",
       "      <th>username</th>\n",
       "      <th>rating</th>\n",
       "    </tr>\n",
       "  </thead>\n",
       "  <tbody>\n",
       "    <tr>\n",
       "      <th>0</th>\n",
       "      <td>1</td>\n",
       "      <td>1</td>\n",
       "      <td>ryanfranco</td>\n",
       "      <td>4</td>\n",
       "    </tr>\n",
       "    <tr>\n",
       "      <th>1</th>\n",
       "      <td>2</td>\n",
       "      <td>1</td>\n",
       "      <td>grantpatricia</td>\n",
       "      <td>2</td>\n",
       "    </tr>\n",
       "    <tr>\n",
       "      <th>2</th>\n",
       "      <td>3</td>\n",
       "      <td>1</td>\n",
       "      <td>brandtandrea</td>\n",
       "      <td>5</td>\n",
       "    </tr>\n",
       "    <tr>\n",
       "      <th>3</th>\n",
       "      <td>4</td>\n",
       "      <td>2</td>\n",
       "      <td>lorichen</td>\n",
       "      <td>3</td>\n",
       "    </tr>\n",
       "    <tr>\n",
       "      <th>4</th>\n",
       "      <td>5</td>\n",
       "      <td>2</td>\n",
       "      <td>mariokeller</td>\n",
       "      <td>2</td>\n",
       "    </tr>\n",
       "  </tbody>\n",
       "</table>\n",
       "</div>"
      ],
      "text/plain": [
       "   rating_id  book_id       username  rating\n",
       "0          1        1     ryanfranco       4\n",
       "1          2        1  grantpatricia       2\n",
       "2          3        1   brandtandrea       5\n",
       "3          4        2       lorichen       3\n",
       "4          5        2    mariokeller       2"
      ]
     },
     "execution_count": 3,
     "metadata": {},
     "output_type": "execute_result"
    }
   ],
   "source": [
    "query = ''' SELECT *\n",
    "            FROM ratings\n",
    "            LIMIT 5\n",
    "        '''\n",
    "\n",
    "pd.io.sql.read_sql(query, con = engine)"
   ]
  },
  {
   "cell_type": "code",
   "execution_count": 4,
   "metadata": {},
   "outputs": [
    {
     "data": {
      "text/html": [
       "<div>\n",
       "<style scoped>\n",
       "    .dataframe tbody tr th:only-of-type {\n",
       "        vertical-align: middle;\n",
       "    }\n",
       "\n",
       "    .dataframe tbody tr th {\n",
       "        vertical-align: top;\n",
       "    }\n",
       "\n",
       "    .dataframe thead th {\n",
       "        text-align: right;\n",
       "    }\n",
       "</style>\n",
       "<table border=\"1\" class=\"dataframe\">\n",
       "  <thead>\n",
       "    <tr style=\"text-align: right;\">\n",
       "      <th></th>\n",
       "      <th>review_id</th>\n",
       "      <th>book_id</th>\n",
       "      <th>username</th>\n",
       "      <th>text</th>\n",
       "    </tr>\n",
       "  </thead>\n",
       "  <tbody>\n",
       "    <tr>\n",
       "      <th>0</th>\n",
       "      <td>1</td>\n",
       "      <td>1</td>\n",
       "      <td>brandtandrea</td>\n",
       "      <td>Mention society tell send professor analysis. ...</td>\n",
       "    </tr>\n",
       "    <tr>\n",
       "      <th>1</th>\n",
       "      <td>2</td>\n",
       "      <td>1</td>\n",
       "      <td>ryanfranco</td>\n",
       "      <td>Foot glass pretty audience hit themselves. Amo...</td>\n",
       "    </tr>\n",
       "    <tr>\n",
       "      <th>2</th>\n",
       "      <td>3</td>\n",
       "      <td>2</td>\n",
       "      <td>lorichen</td>\n",
       "      <td>Listen treat keep worry. Miss husband tax but ...</td>\n",
       "    </tr>\n",
       "    <tr>\n",
       "      <th>3</th>\n",
       "      <td>4</td>\n",
       "      <td>3</td>\n",
       "      <td>johnsonamanda</td>\n",
       "      <td>Finally month interesting blue could nature cu...</td>\n",
       "    </tr>\n",
       "    <tr>\n",
       "      <th>4</th>\n",
       "      <td>5</td>\n",
       "      <td>3</td>\n",
       "      <td>scotttamara</td>\n",
       "      <td>Nation purpose heavy give wait song will. List...</td>\n",
       "    </tr>\n",
       "  </tbody>\n",
       "</table>\n",
       "</div>"
      ],
      "text/plain": [
       "   review_id  book_id       username  \\\n",
       "0          1        1   brandtandrea   \n",
       "1          2        1     ryanfranco   \n",
       "2          3        2       lorichen   \n",
       "3          4        3  johnsonamanda   \n",
       "4          5        3    scotttamara   \n",
       "\n",
       "                                                text  \n",
       "0  Mention society tell send professor analysis. ...  \n",
       "1  Foot glass pretty audience hit themselves. Amo...  \n",
       "2  Listen treat keep worry. Miss husband tax but ...  \n",
       "3  Finally month interesting blue could nature cu...  \n",
       "4  Nation purpose heavy give wait song will. List...  "
      ]
     },
     "execution_count": 4,
     "metadata": {},
     "output_type": "execute_result"
    }
   ],
   "source": [
    "query = ''' SELECT *\n",
    "            FROM reviews\n",
    "            LIMIT 5\n",
    "        '''\n",
    "\n",
    "pd.io.sql.read_sql(query, con = engine)"
   ]
  },
  {
   "cell_type": "code",
   "execution_count": 5,
   "metadata": {},
   "outputs": [
    {
     "data": {
      "text/html": [
       "<div>\n",
       "<style scoped>\n",
       "    .dataframe tbody tr th:only-of-type {\n",
       "        vertical-align: middle;\n",
       "    }\n",
       "\n",
       "    .dataframe tbody tr th {\n",
       "        vertical-align: top;\n",
       "    }\n",
       "\n",
       "    .dataframe thead th {\n",
       "        text-align: right;\n",
       "    }\n",
       "</style>\n",
       "<table border=\"1\" class=\"dataframe\">\n",
       "  <thead>\n",
       "    <tr style=\"text-align: right;\">\n",
       "      <th></th>\n",
       "      <th>author_id</th>\n",
       "      <th>author</th>\n",
       "    </tr>\n",
       "  </thead>\n",
       "  <tbody>\n",
       "    <tr>\n",
       "      <th>0</th>\n",
       "      <td>1</td>\n",
       "      <td>A.S. Byatt</td>\n",
       "    </tr>\n",
       "    <tr>\n",
       "      <th>1</th>\n",
       "      <td>2</td>\n",
       "      <td>Aesop/Laura Harris/Laura Gibbs</td>\n",
       "    </tr>\n",
       "    <tr>\n",
       "      <th>2</th>\n",
       "      <td>3</td>\n",
       "      <td>Agatha Christie</td>\n",
       "    </tr>\n",
       "    <tr>\n",
       "      <th>3</th>\n",
       "      <td>4</td>\n",
       "      <td>Alan Brennert</td>\n",
       "    </tr>\n",
       "    <tr>\n",
       "      <th>4</th>\n",
       "      <td>5</td>\n",
       "      <td>Alan Moore/David   Lloyd</td>\n",
       "    </tr>\n",
       "  </tbody>\n",
       "</table>\n",
       "</div>"
      ],
      "text/plain": [
       "   author_id                          author\n",
       "0          1                      A.S. Byatt\n",
       "1          2  Aesop/Laura Harris/Laura Gibbs\n",
       "2          3                 Agatha Christie\n",
       "3          4                   Alan Brennert\n",
       "4          5        Alan Moore/David   Lloyd"
      ]
     },
     "execution_count": 5,
     "metadata": {},
     "output_type": "execute_result"
    }
   ],
   "source": [
    "query = ''' SELECT *\n",
    "            FROM authors\n",
    "            LIMIT 5\n",
    "        '''\n",
    "\n",
    "pd.io.sql.read_sql(query, con = engine)"
   ]
  },
  {
   "cell_type": "code",
   "execution_count": 6,
   "metadata": {},
   "outputs": [
    {
     "data": {
      "text/html": [
       "<div>\n",
       "<style scoped>\n",
       "    .dataframe tbody tr th:only-of-type {\n",
       "        vertical-align: middle;\n",
       "    }\n",
       "\n",
       "    .dataframe tbody tr th {\n",
       "        vertical-align: top;\n",
       "    }\n",
       "\n",
       "    .dataframe thead th {\n",
       "        text-align: right;\n",
       "    }\n",
       "</style>\n",
       "<table border=\"1\" class=\"dataframe\">\n",
       "  <thead>\n",
       "    <tr style=\"text-align: right;\">\n",
       "      <th></th>\n",
       "      <th>publisher_id</th>\n",
       "      <th>publisher</th>\n",
       "    </tr>\n",
       "  </thead>\n",
       "  <tbody>\n",
       "    <tr>\n",
       "      <th>0</th>\n",
       "      <td>1</td>\n",
       "      <td>Ace</td>\n",
       "    </tr>\n",
       "    <tr>\n",
       "      <th>1</th>\n",
       "      <td>2</td>\n",
       "      <td>Ace Book</td>\n",
       "    </tr>\n",
       "    <tr>\n",
       "      <th>2</th>\n",
       "      <td>3</td>\n",
       "      <td>Ace Books</td>\n",
       "    </tr>\n",
       "    <tr>\n",
       "      <th>3</th>\n",
       "      <td>4</td>\n",
       "      <td>Ace Hardcover</td>\n",
       "    </tr>\n",
       "    <tr>\n",
       "      <th>4</th>\n",
       "      <td>5</td>\n",
       "      <td>Addison Wesley Publishing Company</td>\n",
       "    </tr>\n",
       "  </tbody>\n",
       "</table>\n",
       "</div>"
      ],
      "text/plain": [
       "   publisher_id                          publisher\n",
       "0             1                                Ace\n",
       "1             2                           Ace Book\n",
       "2             3                          Ace Books\n",
       "3             4                      Ace Hardcover\n",
       "4             5  Addison Wesley Publishing Company"
      ]
     },
     "execution_count": 6,
     "metadata": {},
     "output_type": "execute_result"
    }
   ],
   "source": [
    "query = ''' SELECT *\n",
    "            FROM publishers\n",
    "            LIMIT 5\n",
    "        '''\n",
    "\n",
    "pd.io.sql.read_sql(query, con = engine)"
   ]
  },
  {
   "cell_type": "markdown",
   "metadata": {},
   "source": [
    "### Conclusion\n",
    "Most of the dataset looks good, except some of the columns may need to be converted into different data type."
   ]
  },
  {
   "cell_type": "markdown",
   "metadata": {},
   "source": [
    "## Tasks"
   ]
  },
  {
   "cell_type": "markdown",
   "metadata": {},
   "source": [
    "The following are the tasks that we will complete:\n",
    "- Find the number of books released after January 1, 2000.\n",
    "- Find the number of user reviews and the average rating for each book.\n",
    "- Identify the publisher that has released the greatest number of books with more than 50 pages (this will help you exclude brochures and similar publications from your analysis).\n",
    "- Identify the author with the highest average book rating: look only at books with at least 50 ratings.\n",
    "- Find the average number of text reviews among users who rated more than 50 books."
   ]
  },
  {
   "cell_type": "markdown",
   "metadata": {},
   "source": [
    "### Books released after January 1, 2020"
   ]
  },
  {
   "cell_type": "code",
   "execution_count": 7,
   "metadata": {},
   "outputs": [
    {
     "data": {
      "text/html": [
       "<div>\n",
       "<style scoped>\n",
       "    .dataframe tbody tr th:only-of-type {\n",
       "        vertical-align: middle;\n",
       "    }\n",
       "\n",
       "    .dataframe tbody tr th {\n",
       "        vertical-align: top;\n",
       "    }\n",
       "\n",
       "    .dataframe thead th {\n",
       "        text-align: right;\n",
       "    }\n",
       "</style>\n",
       "<table border=\"1\" class=\"dataframe\">\n",
       "  <thead>\n",
       "    <tr style=\"text-align: right;\">\n",
       "      <th></th>\n",
       "      <th>count</th>\n",
       "    </tr>\n",
       "  </thead>\n",
       "  <tbody>\n",
       "    <tr>\n",
       "      <th>0</th>\n",
       "      <td>819</td>\n",
       "    </tr>\n",
       "  </tbody>\n",
       "</table>\n",
       "</div>"
      ],
      "text/plain": [
       "   count\n",
       "0    819"
      ]
     },
     "execution_count": 7,
     "metadata": {},
     "output_type": "execute_result"
    }
   ],
   "source": [
    "query = ''' SELECT COUNT(title)\n",
    "            FROM books\n",
    "            WHERE CAST(publication_date AS date) > '2000-01-01'\n",
    "        '''\n",
    "\n",
    "pd.io.sql.read_sql(query, con = engine)"
   ]
  },
  {
   "cell_type": "code",
   "execution_count": 8,
   "metadata": {},
   "outputs": [
    {
     "data": {
      "text/html": [
       "<div>\n",
       "<style scoped>\n",
       "    .dataframe tbody tr th:only-of-type {\n",
       "        vertical-align: middle;\n",
       "    }\n",
       "\n",
       "    .dataframe tbody tr th {\n",
       "        vertical-align: top;\n",
       "    }\n",
       "\n",
       "    .dataframe thead th {\n",
       "        text-align: right;\n",
       "    }\n",
       "</style>\n",
       "<table border=\"1\" class=\"dataframe\">\n",
       "  <thead>\n",
       "    <tr style=\"text-align: right;\">\n",
       "      <th></th>\n",
       "      <th>count</th>\n",
       "    </tr>\n",
       "  </thead>\n",
       "  <tbody>\n",
       "    <tr>\n",
       "      <th>0</th>\n",
       "      <td>1000</td>\n",
       "    </tr>\n",
       "  </tbody>\n",
       "</table>\n",
       "</div>"
      ],
      "text/plain": [
       "   count\n",
       "0   1000"
      ]
     },
     "execution_count": 8,
     "metadata": {},
     "output_type": "execute_result"
    }
   ],
   "source": [
    "query = ''' SELECT COUNT(title)\n",
    "            FROM books\n",
    "        '''\n",
    "\n",
    "pd.io.sql.read_sql(query, con = engine)"
   ]
  },
  {
   "cell_type": "markdown",
   "metadata": {},
   "source": [
    "From this, we can see that there are 819 books released after January 1, 2000. It comprises more than 80% of all books in the database. Therefore we can conclude that the database has relatively new books and less classic books, however it is possible that among these books there are classic ones that were re-published after January 1, 2000."
   ]
  },
  {
   "cell_type": "markdown",
   "metadata": {},
   "source": [
    "### Average rating and total reviews of each book"
   ]
  },
  {
   "cell_type": "code",
   "execution_count": 13,
   "metadata": {},
   "outputs": [
    {
     "data": {
      "text/html": [
       "<div>\n",
       "<style scoped>\n",
       "    .dataframe tbody tr th:only-of-type {\n",
       "        vertical-align: middle;\n",
       "    }\n",
       "\n",
       "    .dataframe tbody tr th {\n",
       "        vertical-align: top;\n",
       "    }\n",
       "\n",
       "    .dataframe thead th {\n",
       "        text-align: right;\n",
       "    }\n",
       "</style>\n",
       "<table border=\"1\" class=\"dataframe\">\n",
       "  <thead>\n",
       "    <tr style=\"text-align: right;\">\n",
       "      <th></th>\n",
       "      <th>book_id</th>\n",
       "      <th>avg_rating</th>\n",
       "      <th>total_reviews</th>\n",
       "    </tr>\n",
       "  </thead>\n",
       "  <tbody>\n",
       "    <tr>\n",
       "      <th>0</th>\n",
       "      <td>948</td>\n",
       "      <td>3.662500</td>\n",
       "      <td>1120</td>\n",
       "    </tr>\n",
       "    <tr>\n",
       "      <th>1</th>\n",
       "      <td>750</td>\n",
       "      <td>4.125000</td>\n",
       "      <td>528</td>\n",
       "    </tr>\n",
       "    <tr>\n",
       "      <th>2</th>\n",
       "      <td>673</td>\n",
       "      <td>3.825581</td>\n",
       "      <td>516</td>\n",
       "    </tr>\n",
       "    <tr>\n",
       "      <th>3</th>\n",
       "      <td>302</td>\n",
       "      <td>4.414634</td>\n",
       "      <td>492</td>\n",
       "    </tr>\n",
       "    <tr>\n",
       "      <th>4</th>\n",
       "      <td>299</td>\n",
       "      <td>4.287500</td>\n",
       "      <td>480</td>\n",
       "    </tr>\n",
       "  </tbody>\n",
       "</table>\n",
       "</div>"
      ],
      "text/plain": [
       "   book_id  avg_rating  total_reviews\n",
       "0      948    3.662500           1120\n",
       "1      750    4.125000            528\n",
       "2      673    3.825581            516\n",
       "3      302    4.414634            492\n",
       "4      299    4.287500            480"
      ]
     },
     "execution_count": 13,
     "metadata": {},
     "output_type": "execute_result"
    }
   ],
   "source": [
    "query = ''' SELECT \n",
    "                v.book_id AS book_id,\n",
    "                AVG(t.rating) AS avg_rating,\n",
    "                COUNT(v.review_id) AS total_reviews\n",
    "            FROM \n",
    "                reviews AS v\n",
    "                INNER JOIN ratings AS t ON v.book_id = t.book_id\n",
    "            GROUP BY 1\n",
    "            ORDER BY 3 DESC\n",
    "            LIMIT 5\n",
    "        '''\n",
    "\n",
    "pd.io.sql.read_sql(query, con = engine)"
   ]
  },
  {
   "cell_type": "code",
   "execution_count": 10,
   "metadata": {},
   "outputs": [
    {
     "data": {
      "text/html": [
       "<div>\n",
       "<style scoped>\n",
       "    .dataframe tbody tr th:only-of-type {\n",
       "        vertical-align: middle;\n",
       "    }\n",
       "\n",
       "    .dataframe tbody tr th {\n",
       "        vertical-align: top;\n",
       "    }\n",
       "\n",
       "    .dataframe thead th {\n",
       "        text-align: right;\n",
       "    }\n",
       "</style>\n",
       "<table border=\"1\" class=\"dataframe\">\n",
       "  <thead>\n",
       "    <tr style=\"text-align: right;\">\n",
       "      <th></th>\n",
       "      <th>count</th>\n",
       "    </tr>\n",
       "  </thead>\n",
       "  <tbody>\n",
       "    <tr>\n",
       "      <th>0</th>\n",
       "      <td>994</td>\n",
       "    </tr>\n",
       "  </tbody>\n",
       "</table>\n",
       "</div>"
      ],
      "text/plain": [
       "   count\n",
       "0    994"
      ]
     },
     "execution_count": 10,
     "metadata": {},
     "output_type": "execute_result"
    }
   ],
   "source": [
    "query = ''' SELECT COUNT (DISTINCT book_id)\n",
    "            FROM reviews\n",
    "        '''\n",
    "\n",
    "pd.io.sql.read_sql(query, con = engine)"
   ]
  },
  {
   "cell_type": "markdown",
   "metadata": {},
   "source": [
    "In the table above, we can see that there are only 994 books in total that has reviews (around 0.06% missing reviews), the rest only have ratings. We should check these 6 books."
   ]
  },
  {
   "cell_type": "code",
   "execution_count": 14,
   "metadata": {},
   "outputs": [
    {
     "data": {
      "text/html": [
       "<div>\n",
       "<style scoped>\n",
       "    .dataframe tbody tr th:only-of-type {\n",
       "        vertical-align: middle;\n",
       "    }\n",
       "\n",
       "    .dataframe tbody tr th {\n",
       "        vertical-align: top;\n",
       "    }\n",
       "\n",
       "    .dataframe thead th {\n",
       "        text-align: right;\n",
       "    }\n",
       "</style>\n",
       "<table border=\"1\" class=\"dataframe\">\n",
       "  <thead>\n",
       "    <tr style=\"text-align: right;\">\n",
       "      <th></th>\n",
       "      <th>book_id</th>\n",
       "      <th>title</th>\n",
       "      <th>avg_rating</th>\n",
       "    </tr>\n",
       "  </thead>\n",
       "  <tbody>\n",
       "    <tr>\n",
       "      <th>0</th>\n",
       "      <td>83</td>\n",
       "      <td>Anne Rice's The Vampire Lestat: A Graphic Novel</td>\n",
       "      <td>3.666667</td>\n",
       "    </tr>\n",
       "    <tr>\n",
       "      <th>1</th>\n",
       "      <td>191</td>\n",
       "      <td>Disney's Beauty and the Beast (A Little Golden...</td>\n",
       "      <td>4.000000</td>\n",
       "    </tr>\n",
       "    <tr>\n",
       "      <th>2</th>\n",
       "      <td>221</td>\n",
       "      <td>Essential Tales and Poems</td>\n",
       "      <td>4.000000</td>\n",
       "    </tr>\n",
       "    <tr>\n",
       "      <th>3</th>\n",
       "      <td>387</td>\n",
       "      <td>Leonardo's Notebooks</td>\n",
       "      <td>4.000000</td>\n",
       "    </tr>\n",
       "    <tr>\n",
       "      <th>4</th>\n",
       "      <td>672</td>\n",
       "      <td>The Cat in the Hat and Other Dr. Seuss Favorites</td>\n",
       "      <td>5.000000</td>\n",
       "    </tr>\n",
       "    <tr>\n",
       "      <th>5</th>\n",
       "      <td>808</td>\n",
       "      <td>The Natural Way to Draw</td>\n",
       "      <td>3.000000</td>\n",
       "    </tr>\n",
       "  </tbody>\n",
       "</table>\n",
       "</div>"
      ],
      "text/plain": [
       "   book_id                                              title  avg_rating\n",
       "0       83    Anne Rice's The Vampire Lestat: A Graphic Novel    3.666667\n",
       "1      191  Disney's Beauty and the Beast (A Little Golden...    4.000000\n",
       "2      221                          Essential Tales and Poems    4.000000\n",
       "3      387                               Leonardo's Notebooks    4.000000\n",
       "4      672   The Cat in the Hat and Other Dr. Seuss Favorites    5.000000\n",
       "5      808                            The Natural Way to Draw    3.000000"
      ]
     },
     "execution_count": 14,
     "metadata": {},
     "output_type": "execute_result"
    }
   ],
   "source": [
    "query = ''' SELECT \n",
    "                b.book_id,\n",
    "                b.title,\n",
    "                AVG(t.rating) AS avg_rating\n",
    "            FROM\n",
    "                books AS b\n",
    "                LEFT JOIN reviews AS v ON b.book_id = v.book_id\n",
    "                LEFT JOIN ratings AS t ON b.book_id = t.book_id\n",
    "            WHERE v.review_id IS NULL\n",
    "            GROUP BY 1\n",
    "        '''\n",
    "\n",
    "pd.io.sql.read_sql(query, con = engine)"
   ]
  },
  {
   "cell_type": "markdown",
   "metadata": {},
   "source": [
    "The books in the table above do not have any text reviews but it has its average rating. Even one of the books have a rating of 5, The Cat in the Hat and Other Dr. Seuss Favorites."
   ]
  },
  {
   "cell_type": "code",
   "execution_count": 17,
   "metadata": {},
   "outputs": [
    {
     "data": {
      "text/html": [
       "<div>\n",
       "<style scoped>\n",
       "    .dataframe tbody tr th:only-of-type {\n",
       "        vertical-align: middle;\n",
       "    }\n",
       "\n",
       "    .dataframe tbody tr th {\n",
       "        vertical-align: top;\n",
       "    }\n",
       "\n",
       "    .dataframe thead th {\n",
       "        text-align: right;\n",
       "    }\n",
       "</style>\n",
       "<table border=\"1\" class=\"dataframe\">\n",
       "  <thead>\n",
       "    <tr style=\"text-align: right;\">\n",
       "      <th></th>\n",
       "      <th>book_id</th>\n",
       "      <th>title</th>\n",
       "      <th>avg_rating</th>\n",
       "      <th>total_reviews</th>\n",
       "    </tr>\n",
       "  </thead>\n",
       "  <tbody>\n",
       "    <tr>\n",
       "      <th>0</th>\n",
       "      <td>55</td>\n",
       "      <td>A Woman of Substance (Emma Harte Saga #1)</td>\n",
       "      <td>5.0</td>\n",
       "      <td>2</td>\n",
       "    </tr>\n",
       "    <tr>\n",
       "      <th>1</th>\n",
       "      <td>57</td>\n",
       "      <td>Act of Treason (Mitch Rapp  #9)</td>\n",
       "      <td>5.0</td>\n",
       "      <td>2</td>\n",
       "    </tr>\n",
       "    <tr>\n",
       "      <th>2</th>\n",
       "      <td>17</td>\n",
       "      <td>A Dirty Job (Grim Reaper  #1)</td>\n",
       "      <td>5.0</td>\n",
       "      <td>4</td>\n",
       "    </tr>\n",
       "    <tr>\n",
       "      <th>3</th>\n",
       "      <td>20</td>\n",
       "      <td>A Fistful of Charms (The Hollows  #4)</td>\n",
       "      <td>5.0</td>\n",
       "      <td>2</td>\n",
       "    </tr>\n",
       "    <tr>\n",
       "      <th>4</th>\n",
       "      <td>62</td>\n",
       "      <td>Alas  Babylon</td>\n",
       "      <td>5.0</td>\n",
       "      <td>2</td>\n",
       "    </tr>\n",
       "  </tbody>\n",
       "</table>\n",
       "</div>"
      ],
      "text/plain": [
       "   book_id                                      title  avg_rating  \\\n",
       "0       55  A Woman of Substance (Emma Harte Saga #1)         5.0   \n",
       "1       57            Act of Treason (Mitch Rapp  #9)         5.0   \n",
       "2       17              A Dirty Job (Grim Reaper  #1)         5.0   \n",
       "3       20      A Fistful of Charms (The Hollows  #4)         5.0   \n",
       "4       62                              Alas  Babylon         5.0   \n",
       "\n",
       "   total_reviews  \n",
       "0              2  \n",
       "1              2  \n",
       "2              4  \n",
       "3              2  \n",
       "4              2  "
      ]
     },
     "execution_count": 17,
     "metadata": {},
     "output_type": "execute_result"
    }
   ],
   "source": [
    "query = ''' SELECT \n",
    "                b.book_id AS book_id,\n",
    "                b.title AS title,\n",
    "                AVG(t.rating) AS avg_rating,\n",
    "                COUNT(DISTINCT v.review_id) AS total_reviews\n",
    "            FROM \n",
    "                books AS b\n",
    "                LEFT JOIN ratings AS t ON b.book_id = t.book_id\n",
    "                LEFT JOIN reviews AS v ON b.book_id = v.book_id\n",
    "            GROUP BY 1, 2\n",
    "            ORDER BY 3 DESC\n",
    "            LIMIT 5\n",
    "        '''\n",
    "\n",
    "pd.io.sql.read_sql(query, con = engine)"
   ]
  },
  {
   "cell_type": "code",
   "execution_count": 19,
   "metadata": {},
   "outputs": [
    {
     "data": {
      "text/html": [
       "<div>\n",
       "<style scoped>\n",
       "    .dataframe tbody tr th:only-of-type {\n",
       "        vertical-align: middle;\n",
       "    }\n",
       "\n",
       "    .dataframe tbody tr th {\n",
       "        vertical-align: top;\n",
       "    }\n",
       "\n",
       "    .dataframe thead th {\n",
       "        text-align: right;\n",
       "    }\n",
       "</style>\n",
       "<table border=\"1\" class=\"dataframe\">\n",
       "  <thead>\n",
       "    <tr style=\"text-align: right;\">\n",
       "      <th></th>\n",
       "      <th>book_id</th>\n",
       "      <th>title</th>\n",
       "      <th>avg_rating</th>\n",
       "      <th>total_reviews</th>\n",
       "    </tr>\n",
       "  </thead>\n",
       "  <tbody>\n",
       "    <tr>\n",
       "      <th>0</th>\n",
       "      <td>948</td>\n",
       "      <td>Twilight (Twilight  #1)</td>\n",
       "      <td>3.662500</td>\n",
       "      <td>7</td>\n",
       "    </tr>\n",
       "    <tr>\n",
       "      <th>1</th>\n",
       "      <td>497</td>\n",
       "      <td>Outlander (Outlander  #1)</td>\n",
       "      <td>4.125000</td>\n",
       "      <td>6</td>\n",
       "    </tr>\n",
       "    <tr>\n",
       "      <th>2</th>\n",
       "      <td>207</td>\n",
       "      <td>Eat  Pray  Love</td>\n",
       "      <td>3.395833</td>\n",
       "      <td>6</td>\n",
       "    </tr>\n",
       "    <tr>\n",
       "      <th>3</th>\n",
       "      <td>299</td>\n",
       "      <td>Harry Potter and the Chamber of Secrets (Harry...</td>\n",
       "      <td>4.287500</td>\n",
       "      <td>6</td>\n",
       "    </tr>\n",
       "    <tr>\n",
       "      <th>4</th>\n",
       "      <td>302</td>\n",
       "      <td>Harry Potter and the Prisoner of Azkaban (Harr...</td>\n",
       "      <td>4.414634</td>\n",
       "      <td>6</td>\n",
       "    </tr>\n",
       "  </tbody>\n",
       "</table>\n",
       "</div>"
      ],
      "text/plain": [
       "   book_id                                              title  avg_rating  \\\n",
       "0      948                            Twilight (Twilight  #1)    3.662500   \n",
       "1      497                          Outlander (Outlander  #1)    4.125000   \n",
       "2      207                                    Eat  Pray  Love    3.395833   \n",
       "3      299  Harry Potter and the Chamber of Secrets (Harry...    4.287500   \n",
       "4      302  Harry Potter and the Prisoner of Azkaban (Harr...    4.414634   \n",
       "\n",
       "   total_reviews  \n",
       "0              7  \n",
       "1              6  \n",
       "2              6  \n",
       "3              6  \n",
       "4              6  "
      ]
     },
     "execution_count": 19,
     "metadata": {},
     "output_type": "execute_result"
    }
   ],
   "source": [
    "query = ''' SELECT \n",
    "                b.book_id AS book_id,\n",
    "                b.title AS title,\n",
    "                AVG(t.rating) AS avg_rating,\n",
    "                COUNT(DISTINCT v.review_id) AS total_reviews\n",
    "            FROM \n",
    "                books AS b\n",
    "                LEFT JOIN ratings AS t ON b.book_id = t.book_id\n",
    "                LEFT JOIN reviews AS v ON b.book_id = v.book_id\n",
    "            GROUP BY 1, 2\n",
    "            ORDER BY 4 DESC\n",
    "            LIMIT 5\n",
    "        '''\n",
    "\n",
    "pd.io.sql.read_sql(query, con = engine)"
   ]
  },
  {
   "cell_type": "markdown",
   "metadata": {},
   "source": [
    "From the tables above, we can see that when we sort the table by highest rating, it usually comes back with books with very little amount of total reviews. But when we sort with books with most number of distinct reviews, the rating is more varied, ranging from 3.0-4.5.\n",
    "\n",
    "This means that the more popular a book is, the more varied the reviews will be as people have different preference and perspective on books, a good book for one person may not be good for another person. A good indicator of a great book is when they score high on rating and have a lot of reviews. In this case, Harry Potter and the Prisoner of Azkaban, a popular book indeed!"
   ]
  },
  {
   "cell_type": "markdown",
   "metadata": {},
   "source": [
    "### Publishers with most books"
   ]
  },
  {
   "cell_type": "code",
   "execution_count": 12,
   "metadata": {},
   "outputs": [
    {
     "data": {
      "text/html": [
       "<div>\n",
       "<style scoped>\n",
       "    .dataframe tbody tr th:only-of-type {\n",
       "        vertical-align: middle;\n",
       "    }\n",
       "\n",
       "    .dataframe tbody tr th {\n",
       "        vertical-align: top;\n",
       "    }\n",
       "\n",
       "    .dataframe thead th {\n",
       "        text-align: right;\n",
       "    }\n",
       "</style>\n",
       "<table border=\"1\" class=\"dataframe\">\n",
       "  <thead>\n",
       "    <tr style=\"text-align: right;\">\n",
       "      <th></th>\n",
       "      <th>publisher_id</th>\n",
       "      <th>publisher</th>\n",
       "      <th>total_books</th>\n",
       "    </tr>\n",
       "  </thead>\n",
       "  <tbody>\n",
       "    <tr>\n",
       "      <th>0</th>\n",
       "      <td>212</td>\n",
       "      <td>Penguin Books</td>\n",
       "      <td>42</td>\n",
       "    </tr>\n",
       "    <tr>\n",
       "      <th>1</th>\n",
       "      <td>309</td>\n",
       "      <td>Vintage</td>\n",
       "      <td>31</td>\n",
       "    </tr>\n",
       "    <tr>\n",
       "      <th>2</th>\n",
       "      <td>116</td>\n",
       "      <td>Grand Central Publishing</td>\n",
       "      <td>25</td>\n",
       "    </tr>\n",
       "    <tr>\n",
       "      <th>3</th>\n",
       "      <td>217</td>\n",
       "      <td>Penguin Classics</td>\n",
       "      <td>24</td>\n",
       "    </tr>\n",
       "    <tr>\n",
       "      <th>4</th>\n",
       "      <td>35</td>\n",
       "      <td>Bantam</td>\n",
       "      <td>19</td>\n",
       "    </tr>\n",
       "  </tbody>\n",
       "</table>\n",
       "</div>"
      ],
      "text/plain": [
       "   publisher_id                 publisher  total_books\n",
       "0           212             Penguin Books           42\n",
       "1           309                   Vintage           31\n",
       "2           116  Grand Central Publishing           25\n",
       "3           217          Penguin Classics           24\n",
       "4            35                    Bantam           19"
      ]
     },
     "execution_count": 12,
     "metadata": {},
     "output_type": "execute_result"
    }
   ],
   "source": [
    "query = ''' SELECT \n",
    "                b.publisher_id,\n",
    "                p.publisher,\n",
    "                COUNT(b.book_id) AS total_books\n",
    "            FROM \n",
    "                books AS b\n",
    "                INNER JOIN publishers AS p ON b.publisher_id = p.publisher_id \n",
    "            WHERE b.num_pages > 50\n",
    "            GROUP BY 1, 2\n",
    "            ORDER BY 3 DESC\n",
    "            LIMIT 5\n",
    "        '''\n",
    "\n",
    "pd.io.sql.read_sql(query, con = engine)"
   ]
  },
  {
   "cell_type": "code",
   "execution_count": 20,
   "metadata": {},
   "outputs": [
    {
     "data": {
      "text/html": [
       "<div>\n",
       "<style scoped>\n",
       "    .dataframe tbody tr th:only-of-type {\n",
       "        vertical-align: middle;\n",
       "    }\n",
       "\n",
       "    .dataframe tbody tr th {\n",
       "        vertical-align: top;\n",
       "    }\n",
       "\n",
       "    .dataframe thead th {\n",
       "        text-align: right;\n",
       "    }\n",
       "</style>\n",
       "<table border=\"1\" class=\"dataframe\">\n",
       "  <thead>\n",
       "    <tr style=\"text-align: right;\">\n",
       "      <th></th>\n",
       "      <th>title</th>\n",
       "      <th>avg_rating</th>\n",
       "    </tr>\n",
       "  </thead>\n",
       "  <tbody>\n",
       "    <tr>\n",
       "      <th>0</th>\n",
       "      <td>A Princess of Mars (Barsoom  #1)</td>\n",
       "      <td>4.5</td>\n",
       "    </tr>\n",
       "    <tr>\n",
       "      <th>1</th>\n",
       "      <td>The Body</td>\n",
       "      <td>4.5</td>\n",
       "    </tr>\n",
       "    <tr>\n",
       "      <th>2</th>\n",
       "      <td>On Beauty</td>\n",
       "      <td>4.5</td>\n",
       "    </tr>\n",
       "    <tr>\n",
       "      <th>3</th>\n",
       "      <td>Lost in a Good Book (Thursday Next  #2)</td>\n",
       "      <td>4.5</td>\n",
       "    </tr>\n",
       "    <tr>\n",
       "      <th>4</th>\n",
       "      <td>Icy Sparks</td>\n",
       "      <td>4.5</td>\n",
       "    </tr>\n",
       "  </tbody>\n",
       "</table>\n",
       "</div>"
      ],
      "text/plain": [
       "                                     title  avg_rating\n",
       "0         A Princess of Mars (Barsoom  #1)         4.5\n",
       "1                                 The Body         4.5\n",
       "2                                On Beauty         4.5\n",
       "3  Lost in a Good Book (Thursday Next  #2)         4.5\n",
       "4                               Icy Sparks         4.5"
      ]
     },
     "execution_count": 20,
     "metadata": {},
     "output_type": "execute_result"
    }
   ],
   "source": [
    "query = ''' SELECT\n",
    "                b.title AS title,\n",
    "                AVG(t.rating) AS avg_rating\n",
    "            FROM \n",
    "                books AS b\n",
    "                INNER JOIN ratings AS t ON b.book_id = t.book_id\n",
    "            WHERE publisher_id = 212\n",
    "            GROUP BY 1\n",
    "            ORDER BY 2 DESC\n",
    "            LIMIT 5\n",
    "        '''\n",
    "\n",
    "pd.io.sql.read_sql(query, con = engine)"
   ]
  },
  {
   "cell_type": "markdown",
   "metadata": {},
   "source": [
    "Based on the database, the publisher with most books published is Penguin Books with 42 books. Their most highly rated books are A Princess of Mars, The Body and On Beauty."
   ]
  },
  {
   "cell_type": "markdown",
   "metadata": {},
   "source": [
    "### Author with highest average rating"
   ]
  },
  {
   "cell_type": "code",
   "execution_count": 22,
   "metadata": {},
   "outputs": [
    {
     "data": {
      "text/html": [
       "<div>\n",
       "<style scoped>\n",
       "    .dataframe tbody tr th:only-of-type {\n",
       "        vertical-align: middle;\n",
       "    }\n",
       "\n",
       "    .dataframe tbody tr th {\n",
       "        vertical-align: top;\n",
       "    }\n",
       "\n",
       "    .dataframe thead th {\n",
       "        text-align: right;\n",
       "    }\n",
       "</style>\n",
       "<table border=\"1\" class=\"dataframe\">\n",
       "  <thead>\n",
       "    <tr style=\"text-align: right;\">\n",
       "      <th></th>\n",
       "      <th>title</th>\n",
       "      <th>author</th>\n",
       "      <th>avg_rating</th>\n",
       "    </tr>\n",
       "  </thead>\n",
       "  <tbody>\n",
       "    <tr>\n",
       "      <th>0</th>\n",
       "      <td>Of Mice and Men</td>\n",
       "      <td>John Steinbeck</td>\n",
       "      <td>3.622951</td>\n",
       "    </tr>\n",
       "    <tr>\n",
       "      <th>1</th>\n",
       "      <td>The Alchemist</td>\n",
       "      <td>Paulo Coelho/Alan R. Clarke/Özdemir İnce</td>\n",
       "      <td>3.789474</td>\n",
       "    </tr>\n",
       "    <tr>\n",
       "      <th>2</th>\n",
       "      <td>Animal Farm</td>\n",
       "      <td>George Orwell/Boris Grabnar/Peter Škerl</td>\n",
       "      <td>3.729730</td>\n",
       "    </tr>\n",
       "    <tr>\n",
       "      <th>3</th>\n",
       "      <td>Romeo and Juliet</td>\n",
       "      <td>William Shakespeare/Paul Werstine/Barbara A. M...</td>\n",
       "      <td>3.787879</td>\n",
       "    </tr>\n",
       "    <tr>\n",
       "      <th>4</th>\n",
       "      <td>Harry Potter and the Order of the Phoenix (Har...</td>\n",
       "      <td>J.K. Rowling/Mary GrandPré</td>\n",
       "      <td>4.186667</td>\n",
       "    </tr>\n",
       "  </tbody>\n",
       "</table>\n",
       "</div>"
      ],
      "text/plain": [
       "                                               title  \\\n",
       "0                                    Of Mice and Men   \n",
       "1                                      The Alchemist   \n",
       "2                                        Animal Farm   \n",
       "3                                   Romeo and Juliet   \n",
       "4  Harry Potter and the Order of the Phoenix (Har...   \n",
       "\n",
       "                                              author  avg_rating  \n",
       "0                                     John Steinbeck    3.622951  \n",
       "1           Paulo Coelho/Alan R. Clarke/Özdemir İnce    3.789474  \n",
       "2            George Orwell/Boris Grabnar/Peter Škerl    3.729730  \n",
       "3  William Shakespeare/Paul Werstine/Barbara A. M...    3.787879  \n",
       "4                         J.K. Rowling/Mary GrandPré    4.186667  "
      ]
     },
     "execution_count": 22,
     "metadata": {},
     "output_type": "execute_result"
    }
   ],
   "source": [
    "query = ''' SELECT\n",
    "                b.title AS title,\n",
    "                a.author AS author,\n",
    "                AVG(t.rating) AS avg_rating\n",
    "            FROM \n",
    "                books AS b\n",
    "                INNER JOIN authors AS a ON b.author_id = a.author_id\n",
    "                INNER JOIN ratings AS t ON b.book_id = t.book_id\n",
    "            GROUP BY 1, 2\n",
    "            HAVING COUNT(t.rating) >= 50\n",
    "            LIMIT 5\n",
    "        '''\n",
    "\n",
    "pd.io.sql.read_sql(query, con = engine)"
   ]
  },
  {
   "cell_type": "code",
   "execution_count": 26,
   "metadata": {},
   "outputs": [
    {
     "data": {
      "text/html": [
       "<div>\n",
       "<style scoped>\n",
       "    .dataframe tbody tr th:only-of-type {\n",
       "        vertical-align: middle;\n",
       "    }\n",
       "\n",
       "    .dataframe tbody tr th {\n",
       "        vertical-align: top;\n",
       "    }\n",
       "\n",
       "    .dataframe thead th {\n",
       "        text-align: right;\n",
       "    }\n",
       "</style>\n",
       "<table border=\"1\" class=\"dataframe\">\n",
       "  <thead>\n",
       "    <tr style=\"text-align: right;\">\n",
       "      <th></th>\n",
       "      <th>count</th>\n",
       "    </tr>\n",
       "  </thead>\n",
       "  <tbody>\n",
       "    <tr>\n",
       "      <th>0</th>\n",
       "      <td>20</td>\n",
       "    </tr>\n",
       "  </tbody>\n",
       "</table>\n",
       "</div>"
      ],
      "text/plain": [
       "   count\n",
       "0     20"
      ]
     },
     "execution_count": 26,
     "metadata": {},
     "output_type": "execute_result"
    }
   ],
   "source": [
    "query = ''' SELECT\n",
    "                COUNT(*)\n",
    "            FROM (SELECT b.title AS title,\n",
    "                a.author AS author,\n",
    "                AVG(t.rating) AS avg_rating\n",
    "            FROM \n",
    "                books AS b\n",
    "                INNER JOIN authors AS a ON b.author_id = a.author_id\n",
    "                INNER JOIN ratings AS t ON b.book_id = t.book_id\n",
    "            GROUP BY 1, 2\n",
    "            HAVING COUNT(t.rating) >= 50) AS total\n",
    "        '''\n",
    "\n",
    "pd.io.sql.read_sql(query, con = engine)"
   ]
  },
  {
   "cell_type": "markdown",
   "metadata": {},
   "source": [
    "There are only 20 authors that have more than 50 ratings. From this list we would count the average rating grouped by the author's name."
   ]
  },
  {
   "cell_type": "code",
   "execution_count": 34,
   "metadata": {},
   "outputs": [
    {
     "data": {
      "text/html": [
       "<div>\n",
       "<style scoped>\n",
       "    .dataframe tbody tr th:only-of-type {\n",
       "        vertical-align: middle;\n",
       "    }\n",
       "\n",
       "    .dataframe tbody tr th {\n",
       "        vertical-align: top;\n",
       "    }\n",
       "\n",
       "    .dataframe thead th {\n",
       "        text-align: right;\n",
       "    }\n",
       "</style>\n",
       "<table border=\"1\" class=\"dataframe\">\n",
       "  <thead>\n",
       "    <tr style=\"text-align: right;\">\n",
       "      <th></th>\n",
       "      <th>author_id</th>\n",
       "      <th>author</th>\n",
       "      <th>avg_rating</th>\n",
       "    </tr>\n",
       "  </thead>\n",
       "  <tbody>\n",
       "    <tr>\n",
       "      <th>0</th>\n",
       "      <td>236</td>\n",
       "      <td>J.K. Rowling/Mary GrandPré</td>\n",
       "      <td>4.283844</td>\n",
       "    </tr>\n",
       "    <tr>\n",
       "      <th>1</th>\n",
       "      <td>402</td>\n",
       "      <td>Markus Zusak/Cao Xuân Việt Khương</td>\n",
       "      <td>4.264151</td>\n",
       "    </tr>\n",
       "    <tr>\n",
       "      <th>2</th>\n",
       "      <td>240</td>\n",
       "      <td>J.R.R. Tolkien</td>\n",
       "      <td>4.258446</td>\n",
       "    </tr>\n",
       "    <tr>\n",
       "      <th>3</th>\n",
       "      <td>376</td>\n",
       "      <td>Louisa May Alcott</td>\n",
       "      <td>4.192308</td>\n",
       "    </tr>\n",
       "    <tr>\n",
       "      <th>4</th>\n",
       "      <td>498</td>\n",
       "      <td>Rick Riordan</td>\n",
       "      <td>4.080645</td>\n",
       "    </tr>\n",
       "  </tbody>\n",
       "</table>\n",
       "</div>"
      ],
      "text/plain": [
       "   author_id                             author  avg_rating\n",
       "0        236         J.K. Rowling/Mary GrandPré    4.283844\n",
       "1        402  Markus Zusak/Cao Xuân Việt Khương    4.264151\n",
       "2        240                     J.R.R. Tolkien    4.258446\n",
       "3        376                  Louisa May Alcott    4.192308\n",
       "4        498                       Rick Riordan    4.080645"
      ]
     },
     "execution_count": 34,
     "metadata": {},
     "output_type": "execute_result"
    }
   ],
   "source": [
    "query = ''' SELECT\n",
    "                ar.author_id,\n",
    "                ar.author,\n",
    "                AVG(ar.avg_rating) AS avg_rating\n",
    "            FROM (SELECT\n",
    "                    b.book_id AS book_id,\n",
    "                    a.author_id AS author_id,\n",
    "                    b.title AS title,\n",
    "                    a.author AS author,\n",
    "                    AVG(t.rating) AS avg_rating\n",
    "                FROM \n",
    "                    books AS b\n",
    "                    INNER JOIN authors AS a ON b.author_id = a.author_id\n",
    "                INNER JOIN ratings AS t ON b.book_id = t.book_id\n",
    "                GROUP BY 1, 2\n",
    "                HAVING COUNT(t.rating) >= 50) AS ar\n",
    "            GROUP BY 1, 2\n",
    "            ORDER BY 3 DESC\n",
    "            LIMIT 5\n",
    "        '''\n",
    "\n",
    "pd.io.sql.read_sql(query, con = engine)"
   ]
  },
  {
   "cell_type": "markdown",
   "metadata": {},
   "source": [
    "Based on the table above, the author with the highest average rating are JK Rowling/Mary GrandPré. Followed closely by Markus Zusak/Cao Xuân Việt Khương and JRR Tolkien."
   ]
  },
  {
   "cell_type": "code",
   "execution_count": 39,
   "metadata": {},
   "outputs": [
    {
     "data": {
      "text/html": [
       "<div>\n",
       "<style scoped>\n",
       "    .dataframe tbody tr th:only-of-type {\n",
       "        vertical-align: middle;\n",
       "    }\n",
       "\n",
       "    .dataframe tbody tr th {\n",
       "        vertical-align: top;\n",
       "    }\n",
       "\n",
       "    .dataframe thead th {\n",
       "        text-align: right;\n",
       "    }\n",
       "</style>\n",
       "<table border=\"1\" class=\"dataframe\">\n",
       "  <thead>\n",
       "    <tr style=\"text-align: right;\">\n",
       "      <th></th>\n",
       "      <th>title</th>\n",
       "      <th>count</th>\n",
       "    </tr>\n",
       "  </thead>\n",
       "  <tbody>\n",
       "    <tr>\n",
       "      <th>0</th>\n",
       "      <td>Harry Potter Boxed Set  Books 1-5 (Harry Potte...</td>\n",
       "      <td>2</td>\n",
       "    </tr>\n",
       "    <tr>\n",
       "      <th>1</th>\n",
       "      <td>Harry Potter and the Chamber of Secrets (Harry...</td>\n",
       "      <td>80</td>\n",
       "    </tr>\n",
       "    <tr>\n",
       "      <th>2</th>\n",
       "      <td>Harry Potter and the Half-Blood Prince (Harry ...</td>\n",
       "      <td>73</td>\n",
       "    </tr>\n",
       "    <tr>\n",
       "      <th>3</th>\n",
       "      <td>Harry Potter and the Order of the Phoenix (Har...</td>\n",
       "      <td>75</td>\n",
       "    </tr>\n",
       "    <tr>\n",
       "      <th>4</th>\n",
       "      <td>Harry Potter and the Prisoner of Azkaban (Harr...</td>\n",
       "      <td>82</td>\n",
       "    </tr>\n",
       "    <tr>\n",
       "      <th>5</th>\n",
       "      <td>The Book Thief</td>\n",
       "      <td>53</td>\n",
       "    </tr>\n",
       "  </tbody>\n",
       "</table>\n",
       "</div>"
      ],
      "text/plain": [
       "                                               title  count\n",
       "0  Harry Potter Boxed Set  Books 1-5 (Harry Potte...      2\n",
       "1  Harry Potter and the Chamber of Secrets (Harry...     80\n",
       "2  Harry Potter and the Half-Blood Prince (Harry ...     73\n",
       "3  Harry Potter and the Order of the Phoenix (Har...     75\n",
       "4  Harry Potter and the Prisoner of Azkaban (Harr...     82\n",
       "5                                     The Book Thief     53"
      ]
     },
     "execution_count": 39,
     "metadata": {},
     "output_type": "execute_result"
    }
   ],
   "source": [
    "query = ''' SELECT\n",
    "                b.title,\n",
    "                COUNT(t.rating)\n",
    "            FROM \n",
    "                books AS b\n",
    "                INNER JOIN authors AS a ON b.author_id = a.author_id\n",
    "                INNER JOIN ratings AS t ON b.book_id = t.book_id\n",
    "            WHERE a.author_id = 236 OR a.author_id = 402\n",
    "            GROUP BY 1\n",
    "        '''\n",
    "\n",
    "pd.io.sql.read_sql(query, con = engine)"
   ]
  },
  {
   "cell_type": "markdown",
   "metadata": {},
   "source": [
    "### Average number of text reviews from users"
   ]
  },
  {
   "cell_type": "code",
   "execution_count": 40,
   "metadata": {},
   "outputs": [
    {
     "data": {
      "text/html": [
       "<div>\n",
       "<style scoped>\n",
       "    .dataframe tbody tr th:only-of-type {\n",
       "        vertical-align: middle;\n",
       "    }\n",
       "\n",
       "    .dataframe tbody tr th {\n",
       "        vertical-align: top;\n",
       "    }\n",
       "\n",
       "    .dataframe thead th {\n",
       "        text-align: right;\n",
       "    }\n",
       "</style>\n",
       "<table border=\"1\" class=\"dataframe\">\n",
       "  <thead>\n",
       "    <tr style=\"text-align: right;\">\n",
       "      <th></th>\n",
       "      <th>username</th>\n",
       "      <th>total_rating</th>\n",
       "    </tr>\n",
       "  </thead>\n",
       "  <tbody>\n",
       "    <tr>\n",
       "      <th>0</th>\n",
       "      <td>sfitzgerald</td>\n",
       "      <td>55</td>\n",
       "    </tr>\n",
       "    <tr>\n",
       "      <th>1</th>\n",
       "      <td>jennifermiller</td>\n",
       "      <td>53</td>\n",
       "    </tr>\n",
       "    <tr>\n",
       "      <th>2</th>\n",
       "      <td>xdavis</td>\n",
       "      <td>51</td>\n",
       "    </tr>\n",
       "    <tr>\n",
       "      <th>3</th>\n",
       "      <td>paul88</td>\n",
       "      <td>56</td>\n",
       "    </tr>\n",
       "    <tr>\n",
       "      <th>4</th>\n",
       "      <td>lesliegibbs</td>\n",
       "      <td>50</td>\n",
       "    </tr>\n",
       "    <tr>\n",
       "      <th>5</th>\n",
       "      <td>martinadam</td>\n",
       "      <td>56</td>\n",
       "    </tr>\n",
       "    <tr>\n",
       "      <th>6</th>\n",
       "      <td>vanessagardner</td>\n",
       "      <td>50</td>\n",
       "    </tr>\n",
       "    <tr>\n",
       "      <th>7</th>\n",
       "      <td>richard89</td>\n",
       "      <td>55</td>\n",
       "    </tr>\n",
       "    <tr>\n",
       "      <th>8</th>\n",
       "      <td>shermannatalie</td>\n",
       "      <td>50</td>\n",
       "    </tr>\n",
       "  </tbody>\n",
       "</table>\n",
       "</div>"
      ],
      "text/plain": [
       "         username  total_rating\n",
       "0     sfitzgerald            55\n",
       "1  jennifermiller            53\n",
       "2          xdavis            51\n",
       "3          paul88            56\n",
       "4     lesliegibbs            50\n",
       "5      martinadam            56\n",
       "6  vanessagardner            50\n",
       "7       richard89            55\n",
       "8  shermannatalie            50"
      ]
     },
     "execution_count": 40,
     "metadata": {},
     "output_type": "execute_result"
    }
   ],
   "source": [
    "query = ''' SELECT\n",
    "                username,\n",
    "                COUNT(rating) AS total_rating\n",
    "            FROM ratings\n",
    "            GROUP BY 1\n",
    "            HAVING COUNT(rating) >= 50\n",
    "        '''\n",
    "\n",
    "pd.io.sql.read_sql(query, con = engine)"
   ]
  },
  {
   "cell_type": "markdown",
   "metadata": {},
   "source": [
    "There are only 8 users that give more than 50 ratings. We will use this list to find the average number of text reviews from each user."
   ]
  },
  {
   "cell_type": "code",
   "execution_count": 42,
   "metadata": {},
   "outputs": [
    {
     "data": {
      "text/html": [
       "<div>\n",
       "<style scoped>\n",
       "    .dataframe tbody tr th:only-of-type {\n",
       "        vertical-align: middle;\n",
       "    }\n",
       "\n",
       "    .dataframe tbody tr th {\n",
       "        vertical-align: top;\n",
       "    }\n",
       "\n",
       "    .dataframe thead th {\n",
       "        text-align: right;\n",
       "    }\n",
       "</style>\n",
       "<table border=\"1\" class=\"dataframe\">\n",
       "  <thead>\n",
       "    <tr style=\"text-align: right;\">\n",
       "      <th></th>\n",
       "      <th>avg_reviews</th>\n",
       "    </tr>\n",
       "  </thead>\n",
       "  <tbody>\n",
       "    <tr>\n",
       "      <th>0</th>\n",
       "      <td>24.333333</td>\n",
       "    </tr>\n",
       "  </tbody>\n",
       "</table>\n",
       "</div>"
      ],
      "text/plain": [
       "   avg_reviews\n",
       "0    24.333333"
      ]
     },
     "execution_count": 42,
     "metadata": {},
     "output_type": "execute_result"
    }
   ],
   "source": [
    "query = ''' SELECT\n",
    "                AVG(uv.total_reviews) AS avg_reviews\n",
    "            FROM\n",
    "                (SELECT\n",
    "                ut.username AS username,\n",
    "                COUNT(v.text) AS total_reviews\n",
    "                FROM \n",
    "                    (SELECT\n",
    "                        username,\n",
    "                        COUNT(rating)\n",
    "                    FROM ratings\n",
    "                    GROUP BY 1\n",
    "                    HAVING COUNT(rating) > 50) AS ut\n",
    "                INNER JOIN reviews AS v ON ut.username = v.username\n",
    "                GROUP BY 1) AS uv\n",
    "        '''\n",
    "\n",
    "pd.io.sql.read_sql(query, con = engine)"
   ]
  },
  {
   "cell_type": "markdown",
   "metadata": {},
   "source": [
    "Based on the above, we can see that on average users who give more than 50 ratings would give 24 text reviews. "
   ]
  },
  {
   "cell_type": "markdown",
   "metadata": {},
   "source": [
    "### Conclusion"
   ]
  },
  {
   "cell_type": "markdown",
   "metadata": {},
   "source": [
    "We have finished the task and found the following:\n",
    "- There are 819 books released after January 1, 2000.\n",
    "- There are 6 books with rating but no text reviews. The rating ranges between 3.0-5.0 \n",
    "- The average rating is varied depending on the number of reviews. There are some books that have high rating (5.0) but with very little reviews. While books with more than 500 reviews usually rate between 3.5-4.5\n",
    "- The publisher with most books published is Penguin books with 42 books.\n",
    "- The author with the highest average book rating is JK Rowling who authored the Harry Potter series. \n",
    "- The average number of text reviews from users who give more than 50 ratings is 24 reviews."
   ]
  }
 ],
 "metadata": {
  "ExecuteTimeLog": [
   {
    "duration": 699,
    "start_time": "2022-03-16T05:49:43.746Z"
   },
   {
    "duration": 331,
    "start_time": "2022-03-16T05:49:53.344Z"
   },
   {
    "duration": 251,
    "start_time": "2022-03-16T05:50:44.382Z"
   },
   {
    "duration": 43,
    "start_time": "2022-03-18T06:57:35.759Z"
   },
   {
    "duration": 12270,
    "start_time": "2022-03-18T06:57:39.891Z"
   },
   {
    "duration": 37,
    "start_time": "2022-03-18T06:58:55.218Z"
   },
   {
    "duration": 3,
    "start_time": "2022-03-18T07:06:25.850Z"
   },
   {
    "duration": 241,
    "start_time": "2022-03-18T07:06:33.389Z"
   },
   {
    "duration": 231,
    "start_time": "2022-03-18T07:06:43.658Z"
   },
   {
    "duration": 215,
    "start_time": "2022-03-18T07:29:30.433Z"
   },
   {
    "duration": 209,
    "start_time": "2022-03-18T07:29:47.963Z"
   },
   {
    "duration": 206,
    "start_time": "2022-03-18T07:29:59.323Z"
   },
   {
    "duration": 14,
    "start_time": "2022-03-18T07:31:09.574Z"
   },
   {
    "duration": 204,
    "start_time": "2022-03-18T07:31:23.668Z"
   },
   {
    "duration": 13,
    "start_time": "2022-03-18T07:31:40.773Z"
   },
   {
    "duration": 13,
    "start_time": "2022-03-18T07:31:53.813Z"
   },
   {
    "duration": 14,
    "start_time": "2022-03-18T07:32:05.662Z"
   },
   {
    "duration": 13,
    "start_time": "2022-03-18T07:32:10.068Z"
   },
   {
    "duration": 210,
    "start_time": "2022-03-18T07:32:17.283Z"
   },
   {
    "duration": 228,
    "start_time": "2022-03-18T07:32:30.201Z"
   },
   {
    "duration": 216,
    "start_time": "2022-03-18T07:33:52.842Z"
   },
   {
    "duration": 14,
    "start_time": "2022-03-18T07:34:00.812Z"
   },
   {
    "duration": 250,
    "start_time": "2022-03-18T07:34:27.928Z"
   },
   {
    "duration": 10,
    "start_time": "2022-03-18T07:34:38.633Z"
   },
   {
    "duration": 216,
    "start_time": "2022-03-18T07:34:44.870Z"
   },
   {
    "duration": 10,
    "start_time": "2022-03-18T07:34:51.562Z"
   },
   {
    "duration": 210,
    "start_time": "2022-03-18T07:39:28.038Z"
   },
   {
    "duration": 12,
    "start_time": "2022-03-18T07:40:01.765Z"
   },
   {
    "duration": 12,
    "start_time": "2022-03-18T07:40:23.526Z"
   },
   {
    "duration": 11,
    "start_time": "2022-03-18T07:40:30.404Z"
   },
   {
    "duration": 11,
    "start_time": "2022-03-18T07:40:38.575Z"
   },
   {
    "duration": 223,
    "start_time": "2022-03-18T07:41:21.902Z"
   },
   {
    "duration": 10,
    "start_time": "2022-03-18T07:48:25.688Z"
   },
   {
    "duration": 235,
    "start_time": "2022-03-18T07:49:35.799Z"
   },
   {
    "duration": 272,
    "start_time": "2022-03-18T07:49:49.472Z"
   },
   {
    "duration": 11,
    "start_time": "2022-03-18T07:50:51.720Z"
   },
   {
    "duration": 12,
    "start_time": "2022-03-18T07:51:27.809Z"
   },
   {
    "duration": 211,
    "start_time": "2022-03-18T07:55:51.513Z"
   },
   {
    "duration": 208,
    "start_time": "2022-03-18T07:56:02.723Z"
   },
   {
    "duration": 205,
    "start_time": "2022-03-18T07:56:22.486Z"
   },
   {
    "duration": 208,
    "start_time": "2022-03-18T07:57:03.771Z"
   },
   {
    "duration": 211,
    "start_time": "2022-03-18T07:57:30.084Z"
   },
   {
    "duration": 216,
    "start_time": "2022-03-18T07:58:12.654Z"
   },
   {
    "duration": 231,
    "start_time": "2022-03-18T07:58:33.094Z"
   },
   {
    "duration": 19,
    "start_time": "2022-03-18T07:58:49.299Z"
   },
   {
    "duration": 217,
    "start_time": "2022-03-18T08:02:38.273Z"
   },
   {
    "duration": 241,
    "start_time": "2022-03-18T08:02:44.297Z"
   },
   {
    "duration": 253,
    "start_time": "2022-03-18T08:02:56.178Z"
   },
   {
    "duration": 217,
    "start_time": "2022-03-18T08:03:07.095Z"
   },
   {
    "duration": 231,
    "start_time": "2022-03-18T08:03:44.939Z"
   },
   {
    "duration": 264,
    "start_time": "2022-03-18T08:04:05.074Z"
   },
   {
    "duration": 309,
    "start_time": "2022-03-18T08:05:25.575Z"
   },
   {
    "duration": 48,
    "start_time": "2022-03-19T03:19:18.884Z"
   },
   {
    "duration": 8595,
    "start_time": "2022-03-19T03:19:23.903Z"
   },
   {
    "duration": 281,
    "start_time": "2022-03-19T03:19:32.500Z"
   },
   {
    "duration": 71,
    "start_time": "2022-03-19T03:19:40.803Z"
   },
   {
    "duration": 296,
    "start_time": "2022-03-19T03:23:16.025Z"
   },
   {
    "duration": 399,
    "start_time": "2022-03-19T03:24:03.344Z"
   },
   {
    "duration": 95,
    "start_time": "2022-03-19T03:24:12.643Z"
   },
   {
    "duration": 220,
    "start_time": "2022-03-19T03:24:33.033Z"
   },
   {
    "duration": 207,
    "start_time": "2022-03-19T03:24:46.283Z"
   },
   {
    "duration": 96,
    "start_time": "2022-03-19T03:24:52.685Z"
   },
   {
    "duration": 95,
    "start_time": "2022-03-19T03:26:08.804Z"
   },
   {
    "duration": 217,
    "start_time": "2022-03-19T03:32:51.304Z"
   },
   {
    "duration": 80,
    "start_time": "2022-03-19T03:39:36.814Z"
   },
   {
    "duration": 217,
    "start_time": "2022-03-19T03:40:59.162Z"
   },
   {
    "duration": 73,
    "start_time": "2022-03-19T03:41:14.494Z"
   },
   {
    "duration": 94,
    "start_time": "2022-03-19T03:41:35.894Z"
   },
   {
    "duration": 120,
    "start_time": "2022-03-20T12:14:59.434Z"
   },
   {
    "duration": 48,
    "start_time": "2022-03-20T12:17:30.732Z"
   },
   {
    "duration": 7485,
    "start_time": "2022-03-20T12:17:34.804Z"
   },
   {
    "duration": 255,
    "start_time": "2022-03-20T12:17:48.423Z"
   },
   {
    "duration": 88,
    "start_time": "2022-03-20T12:21:07.060Z"
   },
   {
    "duration": 85,
    "start_time": "2022-03-20T12:21:38.290Z"
   },
   {
    "duration": 87,
    "start_time": "2022-03-20T12:22:02.891Z"
   },
   {
    "duration": 76,
    "start_time": "2022-03-20T12:26:31.021Z"
   },
   {
    "duration": 220,
    "start_time": "2022-03-20T12:26:59.452Z"
   },
   {
    "duration": 77,
    "start_time": "2022-03-20T12:28:12.443Z"
   },
   {
    "duration": 76,
    "start_time": "2022-03-20T12:29:58.023Z"
   },
   {
    "duration": 209,
    "start_time": "2022-03-20T12:30:15.328Z"
   },
   {
    "duration": 85,
    "start_time": "2022-03-20T12:30:18.679Z"
   },
   {
    "duration": 80,
    "start_time": "2022-03-20T12:31:22.931Z"
   },
   {
    "duration": 53,
    "start_time": "2022-03-21T11:39:53.253Z"
   },
   {
    "duration": 41717,
    "start_time": "2022-03-21T11:39:57.170Z"
   },
   {
    "duration": 42,
    "start_time": "2022-03-21T11:40:51.154Z"
   },
   {
    "duration": 273,
    "start_time": "2022-03-21T11:43:28.001Z"
   },
   {
    "duration": 18,
    "start_time": "2022-03-21T11:43:40.645Z"
   },
   {
    "duration": 16,
    "start_time": "2022-03-21T11:44:14.321Z"
   },
   {
    "duration": 18,
    "start_time": "2022-03-21T11:44:21.906Z"
   },
   {
    "duration": 193,
    "start_time": "2022-03-21T11:46:20.034Z"
   },
   {
    "duration": 12,
    "start_time": "2022-03-21T11:46:37.585Z"
   },
   {
    "duration": 14119,
    "start_time": "2022-03-22T19:12:54.438Z"
   },
   {
    "duration": 39,
    "start_time": "2022-03-22T19:13:08.558Z"
   },
   {
    "duration": 11,
    "start_time": "2022-03-22T19:13:08.599Z"
   },
   {
    "duration": 15,
    "start_time": "2022-03-22T19:13:08.612Z"
   },
   {
    "duration": 38,
    "start_time": "2022-03-22T19:13:08.629Z"
   },
   {
    "duration": 28,
    "start_time": "2022-03-22T19:13:08.668Z"
   },
   {
    "duration": 15,
    "start_time": "2022-03-22T19:13:08.698Z"
   },
   {
    "duration": 23,
    "start_time": "2022-03-22T19:13:08.715Z"
   },
   {
    "duration": 42,
    "start_time": "2022-03-22T19:13:08.739Z"
   },
   {
    "duration": 25,
    "start_time": "2022-03-22T19:13:08.782Z"
   },
   {
    "duration": 15,
    "start_time": "2022-03-22T19:13:08.808Z"
   },
   {
    "duration": 25,
    "start_time": "2022-03-22T19:13:08.825Z"
   },
   {
    "duration": 22,
    "start_time": "2022-03-22T19:13:08.852Z"
   },
   {
    "duration": 45,
    "start_time": "2022-03-22T19:13:08.878Z"
   },
   {
    "duration": 22,
    "start_time": "2022-03-22T19:13:08.925Z"
   },
   {
    "duration": 12,
    "start_time": "2022-03-22T19:13:08.949Z"
   },
   {
    "duration": 29,
    "start_time": "2022-03-22T19:13:08.962Z"
   },
   {
    "duration": 36,
    "start_time": "2022-03-22T19:13:08.993Z"
   },
   {
    "duration": 32,
    "start_time": "2022-03-22T19:20:33.087Z"
   },
   {
    "duration": 24,
    "start_time": "2022-03-22T19:21:51.088Z"
   },
   {
    "duration": 20,
    "start_time": "2022-03-22T19:21:54.394Z"
   },
   {
    "duration": 28,
    "start_time": "2022-03-22T19:23:45.972Z"
   },
   {
    "duration": 19,
    "start_time": "2022-03-22T19:23:50.267Z"
   },
   {
    "duration": 335,
    "start_time": "2022-03-22T19:32:42.256Z"
   },
   {
    "duration": 13,
    "start_time": "2022-03-22T19:32:49.809Z"
   },
   {
    "duration": 13,
    "start_time": "2022-03-22T19:33:11.834Z"
   },
   {
    "duration": 11,
    "start_time": "2022-03-22T19:33:21.297Z"
   },
   {
    "duration": 12,
    "start_time": "2022-03-22T19:35:10.777Z"
   },
   {
    "duration": 13668,
    "start_time": "2022-03-22T19:38:36.747Z"
   },
   {
    "duration": 41,
    "start_time": "2022-03-22T19:38:50.417Z"
   },
   {
    "duration": 13,
    "start_time": "2022-03-22T19:38:50.460Z"
   },
   {
    "duration": 11,
    "start_time": "2022-03-22T19:38:50.475Z"
   },
   {
    "duration": 9,
    "start_time": "2022-03-22T19:38:50.488Z"
   },
   {
    "duration": 9,
    "start_time": "2022-03-22T19:38:50.499Z"
   },
   {
    "duration": 10,
    "start_time": "2022-03-22T19:38:50.510Z"
   },
   {
    "duration": 9,
    "start_time": "2022-03-22T19:38:50.521Z"
   },
   {
    "duration": 19,
    "start_time": "2022-03-22T19:38:50.532Z"
   },
   {
    "duration": 17,
    "start_time": "2022-03-22T19:38:50.553Z"
   },
   {
    "duration": 10,
    "start_time": "2022-03-22T19:38:50.581Z"
   },
   {
    "duration": 24,
    "start_time": "2022-03-22T19:38:50.592Z"
   },
   {
    "duration": 9,
    "start_time": "2022-03-22T19:38:50.617Z"
   },
   {
    "duration": 11,
    "start_time": "2022-03-22T19:38:50.628Z"
   },
   {
    "duration": 14,
    "start_time": "2022-03-22T19:38:50.640Z"
   },
   {
    "duration": 19,
    "start_time": "2022-03-22T19:38:50.656Z"
   },
   {
    "duration": 9,
    "start_time": "2022-03-22T19:38:50.680Z"
   },
   {
    "duration": 11,
    "start_time": "2022-03-22T19:38:50.691Z"
   },
   {
    "duration": 25,
    "start_time": "2022-03-22T19:38:50.704Z"
   },
   {
    "duration": 35,
    "start_time": "2022-03-22T19:38:50.730Z"
   },
   {
    "duration": 209,
    "start_time": "2022-03-24T07:28:24.482Z"
   },
   {
    "duration": 46,
    "start_time": "2022-03-24T07:28:42.431Z"
   },
   {
    "duration": 9235,
    "start_time": "2022-03-24T07:28:47.987Z"
   },
   {
    "duration": 403,
    "start_time": "2022-03-24T07:29:06.467Z"
   },
   {
    "duration": 76,
    "start_time": "2022-03-24T07:30:41.725Z"
   },
   {
    "duration": 276,
    "start_time": "2022-03-24T07:32:06.178Z"
   },
   {
    "duration": 86,
    "start_time": "2022-03-24T07:32:37.196Z"
   },
   {
    "duration": 223,
    "start_time": "2022-03-24T07:33:34.460Z"
   },
   {
    "duration": 81,
    "start_time": "2022-03-24T07:33:54.174Z"
   },
   {
    "duration": 101,
    "start_time": "2022-03-24T07:34:04.831Z"
   },
   {
    "duration": 68,
    "start_time": "2022-03-24T07:38:30.762Z"
   },
   {
    "duration": 68,
    "start_time": "2022-03-24T07:38:40.511Z"
   },
   {
    "duration": 69,
    "start_time": "2022-03-24T07:39:39.591Z"
   },
   {
    "duration": 214,
    "start_time": "2022-03-24T07:41:21.162Z"
   },
   {
    "duration": 71,
    "start_time": "2022-03-24T07:41:29.282Z"
   },
   {
    "duration": 77,
    "start_time": "2022-03-24T07:43:07.420Z"
   },
   {
    "duration": 90,
    "start_time": "2022-03-24T07:43:27.643Z"
   },
   {
    "duration": 99,
    "start_time": "2022-03-24T07:43:34.497Z"
   },
   {
    "duration": 101,
    "start_time": "2022-03-24T07:44:58.240Z"
   },
   {
    "duration": 101,
    "start_time": "2022-03-24T07:45:57.791Z"
   },
   {
    "duration": 81,
    "start_time": "2022-03-24T07:47:20.923Z"
   },
   {
    "duration": 80,
    "start_time": "2022-03-24T07:47:25.821Z"
   },
   {
    "duration": 77,
    "start_time": "2022-03-24T07:50:59.984Z"
   },
   {
    "duration": 259,
    "start_time": "2022-03-24T07:51:33.267Z"
   },
   {
    "duration": 213,
    "start_time": "2022-03-24T07:51:58.874Z"
   },
   {
    "duration": 73,
    "start_time": "2022-03-24T07:52:05.037Z"
   },
   {
    "duration": 216,
    "start_time": "2022-03-24T07:55:03.533Z"
   },
   {
    "duration": 247,
    "start_time": "2022-03-24T07:55:53.795Z"
   },
   {
    "duration": 77,
    "start_time": "2022-03-24T07:56:08.420Z"
   },
   {
    "duration": 238,
    "start_time": "2022-03-24T07:56:21.912Z"
   },
   {
    "duration": 232,
    "start_time": "2022-03-24T07:56:32.180Z"
   },
   {
    "duration": 75,
    "start_time": "2022-03-24T07:56:43.926Z"
   },
   {
    "duration": 74,
    "start_time": "2022-03-24T07:56:49.795Z"
   },
   {
    "duration": 75,
    "start_time": "2022-03-24T07:56:53.708Z"
   },
   {
    "duration": 224,
    "start_time": "2022-03-24T07:57:35.055Z"
   },
   {
    "duration": 223,
    "start_time": "2022-03-24T07:57:45.650Z"
   },
   {
    "duration": 74,
    "start_time": "2022-03-24T07:57:58.894Z"
   },
   {
    "duration": 75,
    "start_time": "2022-03-24T07:58:11.046Z"
   },
   {
    "duration": 71,
    "start_time": "2022-03-24T07:58:16.962Z"
   },
   {
    "duration": 150,
    "start_time": "2022-03-24T07:59:52.095Z"
   },
   {
    "duration": 242,
    "start_time": "2022-03-24T08:01:19.936Z"
   },
   {
    "duration": 256,
    "start_time": "2022-03-24T08:01:25.355Z"
   },
   {
    "duration": 217,
    "start_time": "2022-03-24T08:01:34.449Z"
   },
   {
    "duration": 71,
    "start_time": "2022-03-24T08:02:06.134Z"
   },
   {
    "duration": 75,
    "start_time": "2022-03-24T08:02:44.612Z"
   },
   {
    "duration": 244,
    "start_time": "2022-03-24T08:07:03.748Z"
   },
   {
    "duration": 70,
    "start_time": "2022-03-24T08:07:55.101Z"
   },
   {
    "duration": 230,
    "start_time": "2022-03-24T08:09:13.170Z"
   },
   {
    "duration": 228,
    "start_time": "2022-03-24T08:09:29.337Z"
   },
   {
    "duration": 250,
    "start_time": "2022-03-24T08:09:40.518Z"
   },
   {
    "duration": 207,
    "start_time": "2022-03-24T08:10:09.359Z"
   },
   {
    "duration": 222,
    "start_time": "2022-03-24T08:11:37.998Z"
   },
   {
    "duration": 72,
    "start_time": "2022-03-24T08:11:58.287Z"
   },
   {
    "duration": 79,
    "start_time": "2022-03-24T08:12:24.954Z"
   },
   {
    "duration": 71,
    "start_time": "2022-03-24T08:15:02.861Z"
   },
   {
    "duration": 162,
    "start_time": "2022-03-24T08:16:05.942Z"
   },
   {
    "duration": 9903,
    "start_time": "2022-03-24T15:09:38.685Z"
   },
   {
    "duration": 241,
    "start_time": "2022-03-24T15:09:48.590Z"
   },
   {
    "duration": 74,
    "start_time": "2022-03-24T15:09:48.833Z"
   },
   {
    "duration": 74,
    "start_time": "2022-03-24T15:09:48.908Z"
   },
   {
    "duration": 74,
    "start_time": "2022-03-24T15:09:48.984Z"
   },
   {
    "duration": 71,
    "start_time": "2022-03-24T15:09:49.060Z"
   },
   {
    "duration": 71,
    "start_time": "2022-03-24T15:09:49.133Z"
   },
   {
    "duration": 71,
    "start_time": "2022-03-24T15:09:49.206Z"
   },
   {
    "duration": 95,
    "start_time": "2022-03-24T15:09:49.278Z"
   },
   {
    "duration": 75,
    "start_time": "2022-03-24T15:09:49.375Z"
   },
   {
    "duration": 74,
    "start_time": "2022-03-24T15:09:49.452Z"
   },
   {
    "duration": 83,
    "start_time": "2022-03-24T15:09:49.528Z"
   },
   {
    "duration": 82,
    "start_time": "2022-03-24T15:09:49.612Z"
   },
   {
    "duration": 150,
    "start_time": "2022-03-24T15:09:49.696Z"
   },
   {
    "duration": 73,
    "start_time": "2022-03-24T15:09:49.847Z"
   },
   {
    "duration": 74,
    "start_time": "2022-03-24T15:09:49.921Z"
   },
   {
    "duration": 74,
    "start_time": "2022-03-24T15:09:49.997Z"
   },
   {
    "duration": 80,
    "start_time": "2022-03-24T15:09:50.073Z"
   },
   {
    "duration": 78,
    "start_time": "2022-03-24T15:09:50.155Z"
   },
   {
    "duration": 74,
    "start_time": "2022-03-24T15:09:50.235Z"
   },
   {
    "duration": 74,
    "start_time": "2022-03-24T15:09:50.310Z"
   },
   {
    "duration": 75,
    "start_time": "2022-03-24T15:09:50.385Z"
   },
   {
    "duration": 75,
    "start_time": "2022-03-24T15:12:19.426Z"
   },
   {
    "duration": 76,
    "start_time": "2022-03-24T15:13:52.405Z"
   },
   {
    "duration": 79,
    "start_time": "2022-03-24T15:16:16.844Z"
   },
   {
    "duration": 80,
    "start_time": "2022-03-24T15:16:19.964Z"
   },
   {
    "duration": 108,
    "start_time": "2022-03-24T15:16:36.538Z"
   },
   {
    "duration": 81,
    "start_time": "2022-03-24T15:16:41.330Z"
   },
   {
    "duration": 106,
    "start_time": "2022-03-24T15:21:26.898Z"
   },
   {
    "duration": 113,
    "start_time": "2022-03-24T15:21:33.160Z"
   },
   {
    "duration": 111,
    "start_time": "2022-03-24T15:22:06.928Z"
   },
   {
    "duration": 8702,
    "start_time": "2022-03-24T15:23:22.588Z"
   },
   {
    "duration": 222,
    "start_time": "2022-03-24T15:23:31.292Z"
   },
   {
    "duration": 69,
    "start_time": "2022-03-24T15:23:31.515Z"
   },
   {
    "duration": 69,
    "start_time": "2022-03-24T15:23:31.587Z"
   },
   {
    "duration": 67,
    "start_time": "2022-03-24T15:23:31.658Z"
   },
   {
    "duration": 66,
    "start_time": "2022-03-24T15:23:31.728Z"
   },
   {
    "duration": 67,
    "start_time": "2022-03-24T15:23:31.796Z"
   },
   {
    "duration": 70,
    "start_time": "2022-03-24T15:23:31.865Z"
   },
   {
    "duration": 89,
    "start_time": "2022-03-24T15:23:31.937Z"
   },
   {
    "duration": 80,
    "start_time": "2022-03-24T15:23:32.029Z"
   },
   {
    "duration": 71,
    "start_time": "2022-03-24T15:23:32.111Z"
   },
   {
    "duration": 77,
    "start_time": "2022-03-24T15:23:32.184Z"
   },
   {
    "duration": 88,
    "start_time": "2022-03-24T15:23:32.264Z"
   },
   {
    "duration": 109,
    "start_time": "2022-03-24T15:23:32.354Z"
   },
   {
    "duration": 70,
    "start_time": "2022-03-24T15:23:32.466Z"
   },
   {
    "duration": 85,
    "start_time": "2022-03-24T15:23:32.538Z"
   },
   {
    "duration": 71,
    "start_time": "2022-03-24T15:23:32.625Z"
   },
   {
    "duration": 76,
    "start_time": "2022-03-24T15:23:32.698Z"
   },
   {
    "duration": 73,
    "start_time": "2022-03-24T15:23:32.776Z"
   },
   {
    "duration": 69,
    "start_time": "2022-03-24T15:23:32.851Z"
   },
   {
    "duration": 71,
    "start_time": "2022-03-24T15:23:32.922Z"
   },
   {
    "duration": 69,
    "start_time": "2022-03-24T15:23:32.995Z"
   },
   {
    "duration": 49,
    "start_time": "2022-03-25T06:47:01.826Z"
   },
   {
    "duration": 7616,
    "start_time": "2022-03-25T06:47:08.371Z"
   },
   {
    "duration": 181,
    "start_time": "2022-03-25T06:47:54.848Z"
   },
   {
    "duration": 64,
    "start_time": "2022-03-25T06:49:01.563Z"
   },
   {
    "duration": 91,
    "start_time": "2022-03-25T06:50:09.259Z"
   },
   {
    "duration": 63,
    "start_time": "2022-03-25T06:50:41.866Z"
   },
   {
    "duration": 85,
    "start_time": "2022-03-25T06:51:04.367Z"
   },
   {
    "duration": 65,
    "start_time": "2022-03-25T06:51:08.650Z"
   },
   {
    "duration": 64,
    "start_time": "2022-03-25T06:51:32.873Z"
   },
   {
    "duration": 75,
    "start_time": "2022-03-25T06:52:47.002Z"
   }
  ],
  "kernelspec": {
   "display_name": "Python 3",
   "language": "python",
   "name": "python3"
  },
  "language_info": {
   "codemirror_mode": {
    "name": "ipython",
    "version": 3
   },
   "file_extension": ".py",
   "mimetype": "text/x-python",
   "name": "python",
   "nbconvert_exporter": "python",
   "pygments_lexer": "ipython3",
   "version": "3.8.8"
  },
  "toc": {
   "base_numbering": 1,
   "nav_menu": {},
   "number_sections": true,
   "sideBar": true,
   "skip_h1_title": true,
   "title_cell": "Table of Contents",
   "title_sidebar": "Contents",
   "toc_cell": false,
   "toc_position": {},
   "toc_section_display": true,
   "toc_window_display": false
  }
 },
 "nbformat": 4,
 "nbformat_minor": 2
}
